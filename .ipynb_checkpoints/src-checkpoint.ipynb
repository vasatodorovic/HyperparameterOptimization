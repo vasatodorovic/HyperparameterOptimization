{
 "cells": [
  {
   "cell_type": "code",
   "execution_count": 1,
   "id": "013c7ace",
   "metadata": {},
   "outputs": [],
   "source": [
    "import random"
   ]
  },
  {
   "cell_type": "code",
   "execution_count": 16,
   "id": "590f21c6",
   "metadata": {},
   "outputs": [],
   "source": [
    "class GASearhCV:\n",
    "    \n",
    "    def __init__(self, param_grid,num_generations=50,fitness_function='accuracy',population_size=100, mutation_rate=0.05,elitism=False,elitism_size=0,tournament_size=5,cv=5):\n",
    "        self.population_size = population_size\n",
    "        self.param_grid = param_grid\n",
    "        self.fitness_function = fitness_function\n",
    "        self.mutation_rate = mutation_rate\n",
    "        self.population = [self.generate_random_parameters() for _ in range(self.population_size)]\n",
    "        self.elitism = elitism\n",
    "        self.tournament_size = tournament_size\n",
    "        self.cv=cv\n",
    "        self.elitism_size=elitism_size\n",
    "        \n",
    "    def generate_random_parameters(self):\n",
    "        return {param : random.choice(value_list) for param,value_list in self.param_grid.items()}\n",
    "    \n",
    "    def geneticAlgorithm():\n",
    "        new_population=[self.generate_random_parameters() for _ in range(self.population_size)]\n",
    "        fitness_score = dict()\n",
    "        \n",
    "        for p in self.population:\n",
    "            fitness_score[p]=fitness(p)\n",
    "            \n",
    "        for _ in range(num_generations):\n",
    "            if elitism:\n",
    "                population.sort(key=lambda x: fitness_score[x], reverse=True)\n",
    "                new_population[:elitism_size] = population[:elitism_size]\n",
    "                \n",
    "            for i in range(self.elitism_size, self.population_size, 2):\n",
    "                parent1_idx = selection(self.population, self.tournament_size)\n",
    "                parent2_idx = selection(self.population, self.tournament_size)\n",
    "            \n",
    "                crossover(self.population[parent1_idx],\n",
    "                          self.population[parent2_idx],\n",
    "                          new_population[i],\n",
    "                          new_population[i+1])\n",
    "            \n",
    "                mutation(new_population[i], self.mutation_prob)\n",
    "                mutation(new_population[i+1], self.mutation_prob)\n",
    "            \n",
    "                fitness_score[new_population[i]] = fitness(new_population[i])\n",
    "                fitness_score[new_population[i+1]] = fitness(new_population[i+1])\n",
    "        \n",
    "            self.population[:] = new_population[:]\n",
    "        best_params = max(self.population, key=lambda x: fitness_score[x])\n",
    "                \n",
    "    def selection(population, tournament_size):\n",
    "        chosen = random.sample(population, tournament_size)\n",
    "        max_fitness = float('-inf')\n",
    "        best_idx = -1\n",
    "        for i in chosen:\n",
    "            if population[i].fitness > max_fitness:\n",
    "                max_fitness = population[i].fitness\n",
    "                best_idx = i\n",
    "        return best_idx"
   ]
  },
  {
   "cell_type": "code",
   "execution_count": null,
   "id": "514146fa",
   "metadata": {},
   "outputs": [],
   "source": []
  },
  {
   "cell_type": "code",
   "execution_count": 6,
   "id": "30c887f1",
   "metadata": {},
   "outputs": [
    {
     "data": {
      "text/plain": [
       "{'V': 2}"
      ]
     },
     "execution_count": 6,
     "metadata": {},
     "output_type": "execute_result"
    }
   ],
   "source": []
  },
  {
   "cell_type": "code",
   "execution_count": null,
   "id": "105c101e",
   "metadata": {},
   "outputs": [],
   "source": []
  }
 ],
 "metadata": {
  "kernelspec": {
   "display_name": "Python 3 (ipykernel)",
   "language": "python",
   "name": "python3"
  },
  "language_info": {
   "codemirror_mode": {
    "name": "ipython",
    "version": 3
   },
   "file_extension": ".py",
   "mimetype": "text/x-python",
   "name": "python",
   "nbconvert_exporter": "python",
   "pygments_lexer": "ipython3",
   "version": "3.10.3"
  }
 },
 "nbformat": 4,
 "nbformat_minor": 5
}
