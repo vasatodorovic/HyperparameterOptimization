{
 "cells": [
  {
   "cell_type": "code",
   "execution_count": 1,
   "id": "253670d9",
   "metadata": {},
   "outputs": [],
   "source": [
    "import numpy as np\n",
    "import math\n",
    "import random"
   ]
  },
  {
   "cell_type": "code",
   "execution_count": null,
   "id": "7f64155d",
   "metadata": {},
   "outputs": [],
   "source": [
    "class SimulatedAnnealingCV:\n",
    "    \n",
    "    def __init__(self, model, param_grid, scoring, num_iterations=50, num_folds=5):\n",
    "        self.model = model\n",
    "        self.param_grid = param_grid\n",
    "        self.X=None\n",
    "        self.y=None\n",
    "        self.scoring = scoring\n",
    "        self.num_iterations = num_iterations\n",
    "        self.num_folds = num_folds\n",
    "        self.best_params=None\n",
    "        self.best_score=float('-inf')\n",
    "        \n",
    "    def fit(self, X, y):\n",
    "    \n",
    "        current_temperature = self.initial_temperature\n",
    "\n",
    "        for _ in range(self.num_iterations):\n",
    "            params = self._generate_neighbor()\n",
    "            score = self._evaluate_params(X, y, params)\n",
    "\n",
    "            delta = score - best_score\n",
    "\n",
    "            if delta > 0 or random.random() < math.exp(delta / current_temperature):\n",
    "                best_params = params\n",
    "                best_score = score\n",
    "\n",
    "            current_temperature *= self.cooling_rate\n",
    "\n",
    "        return best_params\n",
    "\n",
    "    def _generate_neighbor(self):\n",
    "        params = {}\n",
    "        for param, values in self.param_grid.items():\n",
    "            params[param] = random.choice(values)\n",
    "        return params\n",
    "\n",
    "    def _evaluate_params(self, X, y, params):\n",
    "        scores = []\n",
    "        for _ in range(self.num_folds):\n",
    "            # Podelite podatke na trening i test skup\n",
    "            # Trenirajte model sa zadatim parametrima\n",
    "            # Izračunajte tačnost modela na test skupu\n",
    "            # Dodajte rezultat u scores listu\n",
    "\n",
    "        return np.mean(scores)\n",
    "\n",
    "# Primer korišćenja klase\n",
    "from sklearn.model_selection import cross_val_score\n",
    "from sklearn.ensemble import RandomForestClassifier\n",
    "\n",
    "# Definisanje modela i prostora parametara\n",
    "model = RandomForestClassifier()\n",
    "param_grid = {'n_estimators': [10, 50, 100, 200], 'max_depth': [None, 10, 20, 30]}\n",
    "\n",
    "# Inicijalizacija i fitovanje klase\n",
    "sa = SimulatedAnnealingCV(model, param_grid)\n",
    "best_params = sa.fit(X, y)\n",
    "\n",
    "print(\"Najbolji parametri:\", best_params)\n"
   ]
  }
 ],
 "metadata": {
  "kernelspec": {
   "display_name": "Python 3 (ipykernel)",
   "language": "python",
   "name": "python3"
  },
  "language_info": {
   "codemirror_mode": {
    "name": "ipython",
    "version": 3
   },
   "file_extension": ".py",
   "mimetype": "text/x-python",
   "name": "python",
   "nbconvert_exporter": "python",
   "pygments_lexer": "ipython3",
   "version": "3.10.3"
  }
 },
 "nbformat": 4,
 "nbformat_minor": 5
}
