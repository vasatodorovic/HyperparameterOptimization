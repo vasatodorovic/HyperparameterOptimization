{
 "cells": [
  {
   "cell_type": "code",
   "execution_count": 1,
   "id": "268569ce",
   "metadata": {},
   "outputs": [],
   "source": [
    "import numpy as np\n",
    "import math\n",
    "import random\n",
    "from copy import deepcopy\n",
    "from sklearn.model_selection import cross_val_score\n",
    "from sklearn.metrics import accuracy_score\n",
    "import pandas as pd"
   ]
  },
  {
   "cell_type": "code",
   "execution_count": 2,
   "id": "f2da2e7a",
   "metadata": {},
   "outputs": [],
   "source": [
    "class SimulatedAnnealingCV:\n",
    "    \n",
    "    def __init__(self, model, param_grid, scoring='accuracy', num_iterations=30, cv=5,early_stopping=False,k=None):\n",
    "        self.model = model\n",
    "        self.param_grid = param_grid\n",
    "        self.X=None\n",
    "        self.y=None\n",
    "        self.scoring = scoring\n",
    "        self.num_iterations = num_iterations\n",
    "        self.cv = cv\n",
    "        self.best_params=None\n",
    "        self.best_score=float('-inf')\n",
    "        self.k=k\n",
    "        self.early_stopping=early_stopping\n",
    "        \n",
    "    def fit(self, X, y):\n",
    "        self.X=X\n",
    "        self.y=y\n",
    "        \n",
    "        params = self.generate_parameters()\n",
    "        score = self.evaluate_params(params)\n",
    "        \n",
    "        no_improvement_count = 0\n",
    "        if self.early_stopping and k == None:\n",
    "            k=int(self.num_iterations*0.1)\n",
    "            \n",
    "        for i in range(1,self.num_iterations):  \n",
    "            new_params = self.generate_parameters()\n",
    "            new_score = self.evaluate_params(params)\n",
    "            \n",
    "            #print(\"new score\",new_score,\"best score\",self.best_score)\n",
    "            \n",
    "            if new_score > score:\n",
    "                score=new_score\n",
    "                params=deepcopy(new_params)\n",
    "                if new_score > self.best_score:\n",
    "                    self.best_score=new_score\n",
    "                    self.best_params = deepcopy(new_params)\n",
    "                no_improvement_count = 0\n",
    "            else:\n",
    "                p = 1/i**0.5\n",
    "                q=random.random()\n",
    "                if q<p:\n",
    "                    score=new_score\n",
    "                    params=deepcopy(new_params)\n",
    "                    no_improvement_count = 0\n",
    "                else:\n",
    "                    no_improvement_count+=1\n",
    "                    \n",
    "            if self.early_stopping and no_improvement_count >= k:\n",
    "                break\n",
    "\n",
    "    def generate_parameters(self):\n",
    "        return {param : random.choice(value_list) for param,value_list in self.param_grid.items()}\n",
    "        #TODO: different strategy for choosing neighbor of current params\n",
    "\n",
    "    def evaluate_params(self,params):\n",
    "        self.model.set_params(**params)\n",
    "        scores = cross_val_score(self.model, self.X, self.y, cv=self.cv, scoring=self.scoring)\n",
    "        return scores.mean()"
   ]
  },
  {
   "cell_type": "code",
   "execution_count": 3,
   "id": "2d4ed2e6",
   "metadata": {},
   "outputs": [],
   "source": [
    "param_grid_1={\n",
    "    'max_depth' : [4,5,6],\n",
    "    'criterion' : ['gini','entropy'],\n",
    "    'min_samples_leaf':[2,3,4],\n",
    "    'min_samples_split':[3,4,5]\n",
    "}\n",
    "#3*2*3*3 = 54\n",
    "param_grid_2={\n",
    "    'max_depth' : [4,5,6],\n",
    "    'criterion' : ['gini','entropy'],\n",
    "    'min_samples_leaf':[2,3,4,5,6],\n",
    "    'min_samples_split':[3,4,5,6]\n",
    "}\n",
    "# 3*2*5*4 = 120\n",
    "param_grid_3={\n",
    "    'max_depth' : [4,5,6,7,8],\n",
    "    'criterion' : ['gini','entropy'],\n",
    "    'min_samples_leaf':[2,3,4,5,6],\n",
    "    'min_samples_split':[3,4,5,6]\n",
    "}\n",
    "# 5*2*5*4 = 200\n",
    "param_grid_4={\n",
    "    'max_depth' : [4,5,6,7,8,9,10],\n",
    "    'criterion' : ['gini','entropy'],\n",
    "    'min_samples_leaf':[2,3,4,5,6,7],\n",
    "    'min_samples_split':[3,4,5,6,7]\n",
    "}\n",
    "# 7*2*6*5 = 420"
   ]
  },
  {
   "cell_type": "code",
   "execution_count": 4,
   "id": "56ed6ffc",
   "metadata": {},
   "outputs": [],
   "source": [
    "data=pd.read_csv('airline.csv')\n",
    "from sklearn.preprocessing import LabelEncoder\n",
    "label_encoder = LabelEncoder()\n",
    "\n",
    "kolone_za_kodiranje = [\"First Name\", \"Gender\",\"Last Name\", \"Nationality\", \"Airport Name\", \"Airport Country Code\", \"Country Name\", \"Airport Continent\", \"Continents\", \"Arrival Airport\", \"Pilot Name\", \"Flight Status\"]\n",
    "\n",
    "for kolona in kolone_za_kodiranje:\n",
    "    data[kolona] = label_encoder.fit_transform(data[kolona])\n",
    "    \n",
    "data[\"Departure Date\"] = pd.to_datetime(data[\"Departure Date\"])\n",
    "\n",
    "data[\"Day\"] = data[\"Departure Date\"].dt.day\n",
    "data[\"Month\"] = data[\"Departure Date\"].dt.month\n",
    "data[\"Year\"] = data[\"Departure Date\"].dt.year\n",
    "\n",
    "data = data[[\"Passenger ID\", \"First Name\", \"Last Name\", \"Gender\", \"Age\", \"Nationality\",\n",
    "             \"Airport Name\", \"Airport Country Code\", \"Country Name\", \"Airport Continent\",\n",
    "             \"Continents\", \"Day\", \"Month\", \"Year\", \"Arrival Airport\",\n",
    "             \"Pilot Name\", \"Flight Status\"]]"
   ]
  },
  {
   "cell_type": "code",
   "execution_count": 5,
   "id": "dd2bc745",
   "metadata": {},
   "outputs": [
    {
     "data": {
      "text/html": [
       "<div>\n",
       "<style scoped>\n",
       "    .dataframe tbody tr th:only-of-type {\n",
       "        vertical-align: middle;\n",
       "    }\n",
       "\n",
       "    .dataframe tbody tr th {\n",
       "        vertical-align: top;\n",
       "    }\n",
       "\n",
       "    .dataframe thead th {\n",
       "        text-align: right;\n",
       "    }\n",
       "</style>\n",
       "<table border=\"1\" class=\"dataframe\">\n",
       "  <thead>\n",
       "    <tr style=\"text-align: right;\">\n",
       "      <th></th>\n",
       "      <th>Passenger ID</th>\n",
       "      <th>First Name</th>\n",
       "      <th>Last Name</th>\n",
       "      <th>Gender</th>\n",
       "      <th>Age</th>\n",
       "      <th>Nationality</th>\n",
       "      <th>Airport Name</th>\n",
       "      <th>Airport Country Code</th>\n",
       "      <th>Country Name</th>\n",
       "      <th>Airport Continent</th>\n",
       "      <th>Continents</th>\n",
       "      <th>Day</th>\n",
       "      <th>Month</th>\n",
       "      <th>Year</th>\n",
       "      <th>Arrival Airport</th>\n",
       "      <th>Pilot Name</th>\n",
       "      <th>Flight Status</th>\n",
       "    </tr>\n",
       "  </thead>\n",
       "  <tbody>\n",
       "    <tr>\n",
       "      <th>0</th>\n",
       "      <td>10856</td>\n",
       "      <td>2487</td>\n",
       "      <td>22626</td>\n",
       "      <td>0</td>\n",
       "      <td>62</td>\n",
       "      <td>105</td>\n",
       "      <td>1717</td>\n",
       "      <td>219</td>\n",
       "      <td>221</td>\n",
       "      <td>3</td>\n",
       "      <td>3</td>\n",
       "      <td>28</td>\n",
       "      <td>6</td>\n",
       "      <td>2022</td>\n",
       "      <td>1657</td>\n",
       "      <td>29123</td>\n",
       "      <td>2</td>\n",
       "    </tr>\n",
       "    <tr>\n",
       "      <th>1</th>\n",
       "      <td>43872</td>\n",
       "      <td>2629</td>\n",
       "      <td>6478</td>\n",
       "      <td>1</td>\n",
       "      <td>62</td>\n",
       "      <td>152</td>\n",
       "      <td>4228</td>\n",
       "      <td>34</td>\n",
       "      <td>37</td>\n",
       "      <td>3</td>\n",
       "      <td>3</td>\n",
       "      <td>26</td>\n",
       "      <td>12</td>\n",
       "      <td>2022</td>\n",
       "      <td>8499</td>\n",
       "      <td>30724</td>\n",
       "      <td>2</td>\n",
       "    </tr>\n",
       "    <tr>\n",
       "      <th>2</th>\n",
       "      <td>42633</td>\n",
       "      <td>2023</td>\n",
       "      <td>12947</td>\n",
       "      <td>1</td>\n",
       "      <td>67</td>\n",
       "      <td>177</td>\n",
       "      <td>3034</td>\n",
       "      <td>70</td>\n",
       "      <td>72</td>\n",
       "      <td>2</td>\n",
       "      <td>2</td>\n",
       "      <td>18</td>\n",
       "      <td>1</td>\n",
       "      <td>2022</td>\n",
       "      <td>2679</td>\n",
       "      <td>23677</td>\n",
       "      <td>2</td>\n",
       "    </tr>\n",
       "    <tr>\n",
       "      <th>3</th>\n",
       "      <td>78493</td>\n",
       "      <td>2298</td>\n",
       "      <td>31198</td>\n",
       "      <td>0</td>\n",
       "      <td>71</td>\n",
       "      <td>43</td>\n",
       "      <td>6031</td>\n",
       "      <td>34</td>\n",
       "      <td>37</td>\n",
       "      <td>3</td>\n",
       "      <td>3</td>\n",
       "      <td>16</td>\n",
       "      <td>9</td>\n",
       "      <td>2022</td>\n",
       "      <td>8673</td>\n",
       "      <td>26947</td>\n",
       "      <td>1</td>\n",
       "    </tr>\n",
       "    <tr>\n",
       "      <th>4</th>\n",
       "      <td>82072</td>\n",
       "      <td>828</td>\n",
       "      <td>29617</td>\n",
       "      <td>1</td>\n",
       "      <td>21</td>\n",
       "      <td>43</td>\n",
       "      <td>2870</td>\n",
       "      <td>219</td>\n",
       "      <td>221</td>\n",
       "      <td>3</td>\n",
       "      <td>3</td>\n",
       "      <td>25</td>\n",
       "      <td>2</td>\n",
       "      <td>2022</td>\n",
       "      <td>6724</td>\n",
       "      <td>9532</td>\n",
       "      <td>2</td>\n",
       "    </tr>\n",
       "  </tbody>\n",
       "</table>\n",
       "</div>"
      ],
      "text/plain": [
       "   Passenger ID  First Name  Last Name  Gender  Age  Nationality  \\\n",
       "0         10856        2487      22626       0   62          105   \n",
       "1         43872        2629       6478       1   62          152   \n",
       "2         42633        2023      12947       1   67          177   \n",
       "3         78493        2298      31198       0   71           43   \n",
       "4         82072         828      29617       1   21           43   \n",
       "\n",
       "   Airport Name  Airport Country Code  Country Name  Airport Continent  \\\n",
       "0          1717                   219           221                  3   \n",
       "1          4228                    34            37                  3   \n",
       "2          3034                    70            72                  2   \n",
       "3          6031                    34            37                  3   \n",
       "4          2870                   219           221                  3   \n",
       "\n",
       "   Continents  Day  Month  Year  Arrival Airport  Pilot Name  Flight Status  \n",
       "0           3   28      6  2022             1657       29123              2  \n",
       "1           3   26     12  2022             8499       30724              2  \n",
       "2           2   18      1  2022             2679       23677              2  \n",
       "3           3   16      9  2022             8673       26947              1  \n",
       "4           3   25      2  2022             6724        9532              2  "
      ]
     },
     "execution_count": 5,
     "metadata": {},
     "output_type": "execute_result"
    }
   ],
   "source": [
    "data_100=data.head(100)\n",
    "data_1000=data.head(1000)\n",
    "data_10000=data.head(10000)\n",
    "data_100000=data\n",
    "data_10000.head()"
   ]
  },
  {
   "cell_type": "code",
   "execution_count": 83,
   "id": "c707390c",
   "metadata": {},
   "outputs": [],
   "source": [
    "vreme_prostor_1 = []\n",
    "vreme_prostor_2 = []\n",
    "vreme_prostor_3 = []\n",
    "vreme_prostor_4 = []"
   ]
  },
  {
   "cell_type": "code",
   "execution_count": 6,
   "id": "2906a371",
   "metadata": {},
   "outputs": [],
   "source": [
    "X_100 = data_100.iloc[:,:-1]\n",
    "y_100 = data_100.iloc[:,-1]"
   ]
  },
  {
   "cell_type": "code",
   "execution_count": 7,
   "id": "e020d25f",
   "metadata": {},
   "outputs": [],
   "source": [
    "from sklearn.tree import DecisionTreeClassifier\n",
    "import time\n",
    "model=DecisionTreeClassifier()"
   ]
  },
  {
   "cell_type": "code",
   "execution_count": 84,
   "id": "e58bce61",
   "metadata": {},
   "outputs": [
    {
     "name": "stdout",
     "output_type": "stream",
     "text": [
      "Izvršavanje koda trajalo je 0.6859228610992432 sekundi. Best score: 0.4\n"
     ]
    }
   ],
   "source": [
    "ga=SimulatedAnnealingCV(model,param_grid=param_grid_1,num_iterations=20)\n",
    "start_time = time.time()\n",
    "ga.fit(X_100,y_100)    \n",
    "end_time = time.time()\n",
    "execution_time = end_time - start_time\n",
    "vreme_prostor_1.append(execution_time)\n",
    "print(f\"Izvršavanje koda trajalo je {execution_time} sekundi. Best score: {ga.best_score}\")"
   ]
  },
  {
   "cell_type": "code",
   "execution_count": 14,
   "id": "f42e9c9e",
   "metadata": {},
   "outputs": [
    {
     "name": "stdout",
     "output_type": "stream",
     "text": [
      "Izvršavanje koda trajalo je 0.8009028434753418 sekundi. Best score: 0.41\n"
     ]
    }
   ],
   "source": [
    "ga=SimulatedAnnealingCV(model,param_grid=param_grid_2,num_iterations=40)\n",
    "start_time = time.time()\n",
    "ga.fit(X_100,y_100)    \n",
    "end_time = time.time()\n",
    "execution_time = end_time - start_time\n",
    "vreme_prostor_2.append(execution_time)\n",
    "print(f\"Izvršavanje koda trajalo je {execution_time} sekundi. Best score: {ga.best_score}\")"
   ]
  },
  {
   "cell_type": "code",
   "execution_count": 86,
   "id": "c4cb37bd",
   "metadata": {},
   "outputs": [
    {
     "name": "stdout",
     "output_type": "stream",
     "text": [
      "Izvršavanje koda trajalo je 1.8112750053405762 sekundi. Best score: 0.43\n"
     ]
    }
   ],
   "source": [
    "ga=SimulatedAnnealingCV(model,param_grid=param_grid_3,num_iterations=60)\n",
    "start_time = time.time()\n",
    "ga.fit(X_100,y_100)    \n",
    "end_time = time.time()\n",
    "execution_time = end_time - start_time\n",
    "vreme_prostor_3.append(execution_time)\n",
    "print(f\"Izvršavanje koda trajalo je {execution_time} sekundi. Best score: {ga.best_score}\")"
   ]
  },
  {
   "cell_type": "code",
   "execution_count": 87,
   "id": "9b56d065",
   "metadata": {},
   "outputs": [
    {
     "name": "stdout",
     "output_type": "stream",
     "text": [
      "Izvršavanje koda trajalo je 3.981581926345825 sekundi. Best score: 0.43000000000000005\n"
     ]
    }
   ],
   "source": [
    "ga=SimulatedAnnealingCV(model,param_grid=param_grid_4,num_iterations=140)\n",
    "start_time = time.time()\n",
    "ga.fit(X_100,y_100)    \n",
    "end_time = time.time()\n",
    "execution_time = end_time - start_time\n",
    "vreme_prostor_4.append(execution_time)\n",
    "print(f\"Izvršavanje koda trajalo je {execution_time} sekundi. Best score: {ga.best_score}\")"
   ]
  },
  {
   "cell_type": "code",
   "execution_count": null,
   "id": "cf8948a9",
   "metadata": {},
   "outputs": [],
   "source": []
  },
  {
   "cell_type": "code",
   "execution_count": 8,
   "id": "9e8b0ad8",
   "metadata": {},
   "outputs": [],
   "source": [
    "X_1000 = data_1000.iloc[:,:-1]\n",
    "y_1000 = data_1000.iloc[:,-1]"
   ]
  },
  {
   "cell_type": "code",
   "execution_count": 92,
   "id": "2521e55b",
   "metadata": {},
   "outputs": [
    {
     "name": "stdout",
     "output_type": "stream",
     "text": [
      "Izvršavanje koda trajalo je 1.3150677680969238 sekundi. Best score: 0.36299999999999993\n"
     ]
    }
   ],
   "source": [
    "ga=SimulatedAnnealingCV(model,param_grid=param_grid_1,num_iterations=20)\n",
    "start_time = time.time()\n",
    "ga.fit(X_1000,y_1000)    \n",
    "end_time = time.time()\n",
    "execution_time = end_time - start_time\n",
    "vreme_prostor_1.append(execution_time)\n",
    "print(f\"Izvršavanje koda trajalo je {execution_time} sekundi. Best score: {ga.best_score}\")"
   ]
  },
  {
   "cell_type": "code",
   "execution_count": 93,
   "id": "91a8b10e",
   "metadata": {},
   "outputs": [
    {
     "name": "stdout",
     "output_type": "stream",
     "text": [
      "Izvršavanje koda trajalo je 2.7327213287353516 sekundi. Best score: 0.36299999999999993\n"
     ]
    }
   ],
   "source": [
    "ga=SimulatedAnnealingCV(model,param_grid=param_grid_2,num_iterations=40)\n",
    "start_time = time.time()\n",
    "ga.fit(X_1000,y_1000)    \n",
    "end_time = time.time()\n",
    "execution_time = end_time - start_time\n",
    "vreme_prostor_2.append(execution_time)\n",
    "print(f\"Izvršavanje koda trajalo je {execution_time} sekundi. Best score: {ga.best_score}\")"
   ]
  },
  {
   "cell_type": "code",
   "execution_count": 94,
   "id": "d6f79f6e",
   "metadata": {},
   "outputs": [
    {
     "name": "stdout",
     "output_type": "stream",
     "text": [
      "Izvršavanje koda trajalo je 3.6020567417144775 sekundi. Best score: 0.358\n"
     ]
    }
   ],
   "source": [
    "ga=SimulatedAnnealingCV(model,param_grid=param_grid_3,num_iterations=60)\n",
    "start_time = time.time()\n",
    "ga.fit(X_1000,y_1000)    \n",
    "end_time = time.time()\n",
    "execution_time = end_time - start_time\n",
    "vreme_prostor_3.append(execution_time)\n",
    "print(f\"Izvršavanje koda trajalo je {execution_time} sekundi. Best score: {ga.best_score}\")"
   ]
  },
  {
   "cell_type": "code",
   "execution_count": 96,
   "id": "d9158377",
   "metadata": {},
   "outputs": [
    {
     "name": "stdout",
     "output_type": "stream",
     "text": [
      "Izvršavanje koda trajalo je 9.83879566192627 sekundi. Best score: 0.351\n"
     ]
    }
   ],
   "source": [
    "ga=SimulatedAnnealingCV(model,param_grid=param_grid_4,num_iterations=140)\n",
    "start_time = time.time()\n",
    "ga.fit(X_1000,y_1000)    \n",
    "end_time = time.time()\n",
    "execution_time = end_time - start_time\n",
    "vreme_prostor_4.append(execution_time)\n",
    "print(f\"Izvršavanje koda trajalo je {execution_time} sekundi. Best score: {ga.best_score}\")"
   ]
  },
  {
   "cell_type": "code",
   "execution_count": 9,
   "id": "cb59581f",
   "metadata": {},
   "outputs": [],
   "source": [
    "X_10000 = data_10000.iloc[:,:-1]\n",
    "y_10000 = data_10000.iloc[:,-1]"
   ]
  },
  {
   "cell_type": "code",
   "execution_count": 100,
   "id": "833687b3",
   "metadata": {},
   "outputs": [
    {
     "data": {
      "text/plain": [
       "[3.981581926345825, 9.83879566192627]"
      ]
     },
     "execution_count": 100,
     "metadata": {},
     "output_type": "execute_result"
    }
   ],
   "source": []
  },
  {
   "cell_type": "code",
   "execution_count": 101,
   "id": "51b15660",
   "metadata": {},
   "outputs": [
    {
     "name": "stdout",
     "output_type": "stream",
     "text": [
      "Izvršavanje koda trajalo je 8.581634521484375 sekundi. Best score: 0.3387\n"
     ]
    }
   ],
   "source": [
    "ga=SimulatedAnnealingCV(model,param_grid=param_grid_1,num_iterations=20)\n",
    "start_time = time.time()\n",
    "ga.fit(X_10000,y_10000)    \n",
    "end_time = time.time()\n",
    "execution_time = end_time - start_time\n",
    "vreme_prostor_1.append(execution_time)\n",
    "print(f\"Izvršavanje koda trajalo je {execution_time} sekundi. Best score: {ga.best_score}\")"
   ]
  },
  {
   "cell_type": "code",
   "execution_count": 102,
   "id": "3962e7a6",
   "metadata": {},
   "outputs": [
    {
     "name": "stdout",
     "output_type": "stream",
     "text": [
      "Izvršavanje koda trajalo je 12.994057893753052 sekundi. Best score: 0.3391\n"
     ]
    }
   ],
   "source": [
    "ga=SimulatedAnnealingCV(model,param_grid=param_grid_2,num_iterations=40)\n",
    "start_time = time.time()\n",
    "ga.fit(X_10000,y_10000)    \n",
    "end_time = time.time()\n",
    "execution_time = end_time - start_time\n",
    "vreme_prostor_2.append(execution_time)\n",
    "print(f\"Izvršavanje koda trajalo je {execution_time} sekundi. Best score: {ga.best_score}\")"
   ]
  },
  {
   "cell_type": "code",
   "execution_count": 103,
   "id": "f3ca343c",
   "metadata": {},
   "outputs": [
    {
     "name": "stdout",
     "output_type": "stream",
     "text": [
      "Izvršavanje koda trajalo je 34.258793592453 sekundi. Best score: 0.3388\n"
     ]
    }
   ],
   "source": [
    "ga=SimulatedAnnealingCV(model,param_grid=param_grid_3,num_iterations=60)\n",
    "start_time = time.time()\n",
    "ga.fit(X_10000,y_10000)    \n",
    "end_time = time.time()\n",
    "execution_time = end_time - start_time\n",
    "vreme_prostor_3.append(execution_time)\n",
    "print(f\"Izvršavanje koda trajalo je {execution_time} sekundi. Best score: {ga.best_score}\")"
   ]
  },
  {
   "cell_type": "code",
   "execution_count": 111,
   "id": "708230f6",
   "metadata": {},
   "outputs": [
    {
     "name": "stdout",
     "output_type": "stream",
     "text": [
      "Izvršavanje koda trajalo je 72.69564414024353 sekundi. Best score: 0.3424\n"
     ]
    }
   ],
   "source": [
    "ga=SimulatedAnnealingCV(model,param_grid=param_grid_4,num_iterations=140)\n",
    "start_time = time.time()\n",
    "ga.fit(X_10000,y_10000)    \n",
    "end_time = time.time()\n",
    "execution_time = end_time - start_time\n",
    "vreme_prostor_4.append(execution_time)\n",
    "print(f\"Izvršavanje koda trajalo je {execution_time} sekundi. Best score: {ga.best_score}\")"
   ]
  },
  {
   "cell_type": "code",
   "execution_count": 113,
   "id": "8e462212",
   "metadata": {},
   "outputs": [],
   "source": [
    "vreme_prostor_1.append(58)\n",
    "vreme_prostor_2.append(131)\n",
    "vreme_prostor_3.append(233)\n",
    "vreme_prostor_4.append(549)"
   ]
  },
  {
   "cell_type": "code",
   "execution_count": 10,
   "id": "f6798827",
   "metadata": {},
   "outputs": [],
   "source": [
    "X_100000 = data_100000.iloc[:,:-1]\n",
    "y_100000 = data_100000.iloc[:,-1]"
   ]
  },
  {
   "cell_type": "code",
   "execution_count": 67,
   "id": "22d14a36",
   "metadata": {},
   "outputs": [
    {
     "name": "stdout",
     "output_type": "stream",
     "text": [
      "Izvršavanje koda trajalo je 58.098814487457275 sekundi. Best score: 0.33549321559284595\n"
     ]
    }
   ],
   "source": [
    "ga=SimulatedAnnealingCV(model,param_grid=param_grid_1,num_iterations=20)\n",
    "start_time = time.time()\n",
    "ga.fit(X_100000,y_100000)    \n",
    "end_time = time.time()\n",
    "execution_time = end_time - start_time\n",
    "print(f\"Izvršavanje koda trajalo je {execution_time} sekundi. Best score: {ga.best_score}\")"
   ]
  },
  {
   "cell_type": "code",
   "execution_count": 68,
   "id": "912ea49a",
   "metadata": {},
   "outputs": [
    {
     "name": "stdout",
     "output_type": "stream",
     "text": [
      "Izvršavanje koda trajalo je 131.44151735305786 sekundi. Best score: 0.33551349596905994\n"
     ]
    }
   ],
   "source": [
    "ga=SimulatedAnnealingCV(model,param_grid=param_grid_2,num_iterations=40)\n",
    "start_time = time.time()\n",
    "ga.fit(X_100000,y_100000)    \n",
    "end_time = time.time()\n",
    "execution_time = end_time - start_time\n",
    "print(f\"Izvršavanje koda trajalo je {execution_time} sekundi. Best score: {ga.best_score}\")"
   ]
  },
  {
   "cell_type": "code",
   "execution_count": 69,
   "id": "59eca59a",
   "metadata": {},
   "outputs": [
    {
     "name": "stdout",
     "output_type": "stream",
     "text": [
      "Izvršavanje koda trajalo je 232.7356472015381 sekundi. Best score: 0.335614856206647\n"
     ]
    }
   ],
   "source": [
    "ga=SimulatedAnnealingCV(model,param_grid=param_grid_3,num_iterations=60)\n",
    "start_time = time.time()\n",
    "ga.fit(X_100000,y_100000)    \n",
    "end_time = time.time()\n",
    "execution_time = end_time - start_time\n",
    "print(f\"Izvršavanje koda trajalo je {execution_time} sekundi. Best score: {ga.best_score}\")"
   ]
  },
  {
   "cell_type": "code",
   "execution_count": 70,
   "id": "e751c723",
   "metadata": {},
   "outputs": [
    {
     "name": "stdout",
     "output_type": "stream",
     "text": [
      "Izvršavanje koda trajalo je 549.3689455986023 sekundi. Best score: 0.33697365118121014\n"
     ]
    }
   ],
   "source": [
    "ga=SimulatedAnnealingCV(model,param_grid=param_grid_4,num_iterations=140)\n",
    "start_time = time.time()\n",
    "ga.fit(X_100000,y_100000)    \n",
    "end_time = time.time()\n",
    "execution_time = end_time - start_time\n",
    "print(f\"Izvršavanje koda trajalo je {execution_time} sekundi. Best score: {ga.best_score}\")"
   ]
  },
  {
   "cell_type": "code",
   "execution_count": 124,
   "id": "5fb87c09",
   "metadata": {},
   "outputs": [
    {
     "data": {
      "image/png": "[encoded data removed]",
      "text/plain": [
       "<Figure size 432x288 with 1 Axes>"
      ]
     },
     "metadata": {
      "needs_background": "light"
     },
     "output_type": "display_data"
    }
   ],
   "source": [
    "import matplotlib.pyplot as plt\n",
    "\n",
    "# Veličina podataka (broj redova)\n",
    "velicina_podataka = ['100','1000','10000','98000']\n",
    "\n",
    "# Iscrtavanje kriva za svaki prostor pretrage\n",
    "plt.plot(velicina_podataka, vreme_prostor_1, label='Prostor 1')\n",
    "plt.plot(velicina_podataka, vreme_prostor_2, label='Prostor 2')\n",
    "plt.plot(velicina_podataka, vreme_prostor_3, label='Prostor 3')\n",
    "plt.plot(velicina_podataka, vreme_prostor_4, label='Prostor 4')\n",
    "\n",
    "# Postavljanje naslova i oznaka osa\n",
    "plt.xlabel('Veličina podataka (broj redova)')\n",
    "plt.ylabel('Vreme izvršavanja (s)')\n",
    "\n",
    "# Dodavanje legende\n",
    "plt.legend()\n",
    "plt.savefig('SimulatedAnnealingPerforances.png')\n",
    "# Prikazivanje grafika\n",
    "plt.show()"
   ]
  },
  {
   "cell_type": "code",
   "execution_count": 120,
   "id": "a860afbd",
   "metadata": {},
   "outputs": [
    {
     "data": {
      "text/plain": [
       "[0.6859228610992432, 1.3150677680969238, 8.581634521484375, 58]"
      ]
     },
     "execution_count": 120,
     "metadata": {},
     "output_type": "execute_result"
    }
   ],
   "source": [
    "vreme_prostor_1"
   ]
  },
  {
   "cell_type": "code",
   "execution_count": 121,
   "id": "917a0ede",
   "metadata": {},
   "outputs": [
    {
     "data": {
      "text/plain": [
       "[1.139803171157837, 2.7327213287353516, 12.994057893753052, 131]"
      ]
     },
     "execution_count": 121,
     "metadata": {},
     "output_type": "execute_result"
    }
   ],
   "source": [
    "vreme_prostor_2"
   ]
  },
  {
   "cell_type": "code",
   "execution_count": 122,
   "id": "296530fa",
   "metadata": {},
   "outputs": [
    {
     "data": {
      "text/plain": [
       "[1.8112750053405762, 3.6020567417144775, 34.258793592453, 233]"
      ]
     },
     "execution_count": 122,
     "metadata": {},
     "output_type": "execute_result"
    }
   ],
   "source": [
    "vreme_prostor_3"
   ]
  },
  {
   "cell_type": "code",
   "execution_count": 123,
   "id": "8816f1a7",
   "metadata": {},
   "outputs": [
    {
     "data": {
      "text/plain": [
       "[3.981581926345825, 9.83879566192627, 72.69564414024353, 549]"
      ]
     },
     "execution_count": 123,
     "metadata": {},
     "output_type": "execute_result"
    }
   ],
   "source": [
    "vreme_prostor_4"
   ]
  },
  {
   "cell_type": "code",
   "execution_count": 127,
   "id": "c62bf570",
   "metadata": {},
   "outputs": [
    {
     "name": "stdout",
     "output_type": "stream",
     "text": [
      "Izvršavanje koda za param_grid_1 trajalo je 2.02803373336792 sekundi. Best score: 0.44000000000000006\n",
      "Izvršavanje koda za param_grid_2 trajalo je 4.513188123703003 sekundi. Best score: 0.45999999999999996\n",
      "Izvršavanje koda za param_grid_3 trajalo je 8.244003772735596 sekundi. Best score: 0.43000000000000005\n",
      "Izvršavanje koda za param_grid_4 trajalo je 13.604434728622437 sekundi. Best score: 0.45\n"
     ]
    }
   ],
   "source": [
    "param_grid=[param_grid_1,param_grid_2,param_grid_3,param_grid_4]\n",
    "from sklearn.model_selection import GridSearchCV\n",
    "\n",
    "for i,params in enumerate(param_grid):\n",
    "    grid=GridSearchCV(model,param_grid=params,n_jobs=1,scoring='accuracy')\n",
    "    start_time = time.time()\n",
    "    grid.fit(X_100,y_100)\n",
    "    end_time = time.time() \n",
    "    execution_time = end_time - start_time\n",
    "    print(f\"Izvršavanje koda za param_grid_{i+1} trajalo je {execution_time} sekundi. Best score: {grid.best_score_}\")"
   ]
  },
  {
   "cell_type": "code",
   "execution_count": 129,
   "id": "56b02b54",
   "metadata": {},
   "outputs": [
    {
     "name": "stdout",
     "output_type": "stream",
     "text": [
      "Izvršavanje koda za param_grid_1 trajalo je 0.5505616664886475 sekundi. Best score: 0.42000000000000004\n",
      "Izvršavanje koda za param_grid_2 trajalo je 1.1437056064605713 sekundi. Best score: 0.43000000000000005\n",
      "Izvršavanje koda za param_grid_3 trajalo je 1.848667860031128 sekundi. Best score: 0.4600000000000001\n",
      "Izvršavanje koda za param_grid_4 trajalo je 4.624375581741333 sekundi. Best score: 0.44000000000000006\n"
     ]
    }
   ],
   "source": [
    "param_grid=[param_grid_1,param_grid_2,param_grid_3,param_grid_4]\n",
    "from sklearn.model_selection import GridSearchCV\n",
    "\n",
    "for i,params in enumerate(param_grid):\n",
    "    grid=GridSearchCV(model,param_grid=params,n_jobs=-1,scoring='accuracy')\n",
    "    start_time = time.time()\n",
    "    grid.fit(X_100,y_100)\n",
    "    end_time = time.time() \n",
    "    execution_time = end_time - start_time\n",
    "    print(f\"Izvršavanje koda za param_grid_{i+1} trajalo je {execution_time} sekundi. Best score: {grid.best_score_}\")"
   ]
  },
  {
   "cell_type": "code",
   "execution_count": 130,
   "id": "f1d30fff",
   "metadata": {},
   "outputs": [
    {
     "name": "stdout",
     "output_type": "stream",
     "text": [
      "Izvršavanje koda za param_grid_1 trajalo je 3.8915672302246094 sekundi. Best score: 0.364\n",
      "Izvršavanje koda za param_grid_2 trajalo je 7.923137664794922 sekundi. Best score: 0.363\n",
      "Izvršavanje koda za param_grid_3 trajalo je 16.818293571472168 sekundi. Best score: 0.36299999999999993\n",
      "Izvršavanje koda za param_grid_4 trajalo je 35.33608961105347 sekundi. Best score: 0.364\n"
     ]
    }
   ],
   "source": [
    "param_grid=[param_grid_1,param_grid_2,param_grid_3,param_grid_4]\n",
    "from sklearn.model_selection import GridSearchCV\n",
    "\n",
    "for i,params in enumerate(param_grid):\n",
    "    grid=GridSearchCV(model,param_grid=params,n_jobs=1,scoring='accuracy')\n",
    "    start_time = time.time()\n",
    "    grid.fit(X_1000,y_1000)\n",
    "    end_time = time.time() \n",
    "    execution_time = end_time - start_time\n",
    "    print(f\"Izvršavanje koda za param_grid_{i+1} trajalo je {execution_time} sekundi. Best score: {grid.best_score_}\")"
   ]
  },
  {
   "cell_type": "code",
   "execution_count": 132,
   "id": "deb079a4",
   "metadata": {},
   "outputs": [
    {
     "name": "stdout",
     "output_type": "stream",
     "text": [
      "Izvršavanje koda za param_grid_1 trajalo je 1.1434195041656494 sekundi. Best score: 0.363\n",
      "Izvršavanje koda za param_grid_2 trajalo je 2.539797782897949 sekundi. Best score: 0.363\n",
      "Izvršavanje koda za param_grid_3 trajalo je 4.574842214584351 sekundi. Best score: 0.365\n",
      "Izvršavanje koda za param_grid_4 trajalo je 9.381115436553955 sekundi. Best score: 0.364\n"
     ]
    }
   ],
   "source": [
    "param_grid=[param_grid_1,param_grid_2,param_grid_3,param_grid_4]\n",
    "from sklearn.model_selection import GridSearchCV\n",
    "\n",
    "for i,params in enumerate(param_grid):\n",
    "    grid=GridSearchCV(model,param_grid=params,n_jobs=-1,scoring='accuracy')\n",
    "    start_time = time.time()\n",
    "    grid.fit(X_1000,y_1000)\n",
    "    end_time = time.time() \n",
    "    execution_time = end_time - start_time\n",
    "    print(f\"Izvršavanje koda za param_grid_{i+1} trajalo je {execution_time} sekundi. Best score: {grid.best_score_}\")"
   ]
  },
  {
   "cell_type": "code",
   "execution_count": 12,
   "id": "28b3701f",
   "metadata": {},
   "outputs": [
    {
     "name": "stdout",
     "output_type": "stream",
     "text": [
      "Izvršavanje koda za param_grid_1 trajalo je 14.773550748825073 sekundi. Best score: 0.33880000000000005\n",
      "Izvršavanje koda za param_grid_2 trajalo je 32.85912036895752 sekundi. Best score: 0.3392\n",
      "Izvršavanje koda za param_grid_3 trajalo je 62.73736882209778 sekundi. Best score: 0.3418\n",
      "Izvršavanje koda za param_grid_4 trajalo je 166.14768362045288 sekundi. Best score: 0.3427\n"
     ]
    }
   ],
   "source": [
    "param_grid=[param_grid_1,param_grid_2,param_grid_3,param_grid_4]\n",
    "from sklearn.model_selection import GridSearchCV\n",
    "\n",
    "for i,params in enumerate(param_grid):\n",
    "    grid=GridSearchCV(model,param_grid=params,n_jobs=1,scoring='accuracy')\n",
    "    start_time = time.time()\n",
    "    grid.fit(X_10000,y_10000)\n",
    "    end_time = time.time() \n",
    "    execution_time = end_time - start_time\n",
    "    print(f\"Izvršavanje koda za param_grid_{i+1} trajalo je {execution_time} sekundi. Best score: {grid.best_score_}\")"
   ]
  },
  {
   "cell_type": "code",
   "execution_count": 11,
   "id": "c574c0d6",
   "metadata": {},
   "outputs": [
    {
     "name": "stdout",
     "output_type": "stream",
     "text": [
      "Izvršavanje koda za param_grid_1 trajalo je 9.620265483856201 sekundi. Best score: 0.3387\n",
      "Izvršavanje koda za param_grid_2 trajalo je 17.07034683227539 sekundi. Best score: 0.3392\n",
      "Izvršavanje koda za param_grid_3 trajalo je 29.397377014160156 sekundi. Best score: 0.34190000000000004\n",
      "Izvršavanje koda za param_grid_4 trajalo je 74.41358613967896 sekundi. Best score: 0.3427\n"
     ]
    }
   ],
   "source": [
    "param_grid=[param_grid_1,param_grid_2,param_grid_3,param_grid_4]\n",
    "from sklearn.model_selection import GridSearchCV\n",
    "\n",
    "for i,params in enumerate(param_grid):\n",
    "    grid=GridSearchCV(model,param_grid=params,n_jobs=-1,scoring='accuracy')\n",
    "    start_time = time.time()\n",
    "    grid.fit(X_10000,y_10000)\n",
    "    end_time = time.time() \n",
    "    execution_time = end_time - start_time\n",
    "    print(f\"Izvršavanje koda za param_grid_{i+1} trajalo je {execution_time} sekundi. Best score: {grid.best_score_}\")"
   ]
  },
  {
   "cell_type": "code",
   "execution_count": 14,
   "id": "d5a3c8aa",
   "metadata": {},
   "outputs": [
    {
     "name": "stdout",
     "output_type": "stream",
     "text": [
      "Izvršavanje koda za param_grid_1 trajalo je 101.8258125782013 sekundi. Best score: 0.33550335552389443\n",
      "Izvršavanje koda za param_grid_2 trajalo je 221.7616903781891 sekundi. Best score: 0.33551349596905994\n",
      "Izvršavanje koda za param_grid_3 trajalo je 505.57762384414673 sekundi. Best score: 0.3357365374356969\n",
      "Izvršavanje koda za param_grid_4 trajalo je 1099.5495190620422 sekundi. Best score: 0.3370040709743556\n"
     ]
    }
   ],
   "source": [
    "param_grid=[param_grid_1,param_grid_2,param_grid_3,param_grid_4]\n",
    "from sklearn.model_selection import GridSearchCV\n",
    "for i,params in enumerate(param_grid):\n",
    "    grid=GridSearchCV(model,param_grid=params,n_jobs=-1,scoring='accuracy')\n",
    "    start_time = time.time()\n",
    "    grid.fit(X_100000,y_100000)\n",
    "    end_time = time.time() \n",
    "    execution_time = end_time - start_time\n",
    "    print(f\"Izvršavanje koda za param_grid_{i+1} trajalo je {execution_time} sekundi. Best score: {grid.best_score_}\")"
   ]
  },
  {
   "cell_type": "code",
   "execution_count": null,
   "id": "6544a4ae",
   "metadata": {},
   "outputs": [
    {
     "name": "stdout",
     "output_type": "stream",
     "text": [
      "Izvršavanje koda za param_grid_1 trajalo je 372.60884284973145 sekundi. Best score: 0.33550335552389443\n",
      "Izvršavanje koda za param_grid_2 trajalo je 773.6979596614838 sekundi. Best score: 0.33551349596905994\n",
      "Izvršavanje koda za param_grid_3 trajalo je 9406.722153663635 sekundi. Best score: 0.3357263980187655\n"
     ]
    }
   ],
   "source": [
    "param_grid=[param_grid_1,param_grid_2,param_grid_3,param_grid_4]\n",
    "from sklearn.model_selection import GridSearchCV\n",
    "for i,params in enumerate(param_grid):\n",
    "    grid=GridSearchCV(model,param_grid=params,n_jobs=1,scoring='accuracy')\n",
    "    start_time = time.time()\n",
    "    grid.fit(X_100000,y_100000)\n",
    "    end_time = time.time() \n",
    "    execution_time = end_time - start_time\n",
    "    print(f\"Izvršavanje koda za param_grid_{i+1} trajalo je {execution_time} sekundi. Best score: {grid.best_score_}\")"
   ]
  },
  {
   "cell_type": "code",
   "execution_count": null,
   "id": "52c87aef",
   "metadata": {},
   "outputs": [],
   "source": []
  }
 ],
 "metadata": {
  "kernelspec": {
   "display_name": "Python 3 (ipykernel)",
   "language": "python",
   "name": "python3"
  },
  "language_info": {
   "codemirror_mode": {
    "name": "ipython",
    "version": 3
   },
   "file_extension": ".py",
   "mimetype": "text/x-python",
   "name": "python",
   "nbconvert_exporter": "python",
   "pygments_lexer": "ipython3",
   "version": "3.10.3"
  }
 },
 "nbformat": 4,
 "nbformat_minor": 5
}
