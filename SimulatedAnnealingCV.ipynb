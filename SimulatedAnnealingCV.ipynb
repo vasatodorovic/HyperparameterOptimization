{
 "cells": [
  {
   "cell_type": "code",
   "execution_count": 3,
   "id": "268569ce",
   "metadata": {},
   "outputs": [],
   "source": [
    "import numpy as np\n",
    "import math\n",
    "import random\n",
    "from copy import deepcopy\n",
    "from sklearn.model_selection import cross_val_score\n",
    "from sklearn.metrics import accuracy_score"
   ]
  },
  {
   "cell_type": "code",
   "execution_count": 53,
   "id": "f2da2e7a",
   "metadata": {},
   "outputs": [],
   "source": [
    "class SimulatedAnnealingCV:\n",
    "    \n",
    "    def __init__(self, model, param_grid, scoring='accuracy', num_iterations=50, cv=5,early_stopping=False,k=None):\n",
    "        self.model = model\n",
    "        self.param_grid = param_grid\n",
    "        self.X=None\n",
    "        self.y=None\n",
    "        self.scoring = scoring\n",
    "        self.num_iterations = num_iterations\n",
    "        self.cv = cv\n",
    "        self.best_params=None\n",
    "        self.best_score=float('-inf')\n",
    "        self.k=k\n",
    "        self.early_stopping=early_stopping\n",
    "        \n",
    "    def fit(self, X, y):\n",
    "        self.X=X\n",
    "        self.y=y\n",
    "        \n",
    "        params = self.generate_parameters()\n",
    "        score = self.evaluate_params(params)\n",
    "        \n",
    "        no_improvement_count = 0\n",
    "        if self.early_stopping and k == None:\n",
    "            k=int(self.num_iterations*0.1)\n",
    "            \n",
    "        for i in range(1,self.num_iterations):  \n",
    "            new_params = self.generate_parameters()\n",
    "            new_score = self.evaluate_params(params)\n",
    "            \n",
    "            #print(\"new score\",new_score,\"best score\",self.best_score)\n",
    "            \n",
    "            if new_score > score:\n",
    "                score=new_score\n",
    "                params=deepcopy(new_params)\n",
    "                if new_score > self.best_score:\n",
    "                    self.best_score=new_score\n",
    "                    self.best_params = deepcopy(new_params)\n",
    "                no_improvement_count = 0\n",
    "            else:\n",
    "                p = 1/i**0.5\n",
    "                q=random.random()\n",
    "                if q<p:\n",
    "                    score=new_score\n",
    "                    params=deepcopy(new_params)\n",
    "                    no_improvement_count = 0\n",
    "                else:\n",
    "                    no_improvement_count+=1\n",
    "                    \n",
    "            if self.early_stopping and no_improvement_count >= k:\n",
    "                break\n",
    "\n",
    "    def generate_parameters(self):\n",
    "        return {param : random.choice(value_list) for param,value_list in self.param_grid.items()}\n",
    "        #TODO: different strategy for choosing neighbor of current params\n",
    "\n",
    "    def evaluate_params(self,params):\n",
    "        self.model.set_params(**params)\n",
    "        scores = cross_val_score(self.model, self.X, self.y, cv=self.cv, scoring=self.scoring)\n",
    "        return scores.mean()"
   ]
  },
  {
   "cell_type": "code",
   "execution_count": 54,
   "id": "2d4ed2e6",
   "metadata": {},
   "outputs": [],
   "source": [
    "param_grid={\n",
    "    'max_depth' : [4,5,6],\n",
    "    'criterion' : ['gini','entropy']\n",
    "}"
   ]
  },
  {
   "cell_type": "code",
   "execution_count": 55,
   "id": "56ed6ffc",
   "metadata": {},
   "outputs": [],
   "source": [
    "from sklearn.datasets import load_iris\n",
    "iris = load_iris()\n",
    "X = iris.data\n",
    "y = iris.target"
   ]
  },
  {
   "cell_type": "code",
   "execution_count": 56,
   "id": "e020d25f",
   "metadata": {},
   "outputs": [],
   "source": [
    "from sklearn.tree import DecisionTreeClassifier\n",
    "model=DecisionTreeClassifier()"
   ]
  },
  {
   "cell_type": "code",
   "execution_count": 57,
   "id": "9e8b0ad8",
   "metadata": {},
   "outputs": [],
   "source": [
    "sa=SimulatedAnnealingCV(model,param_grid=param_grid)"
   ]
  },
  {
   "cell_type": "code",
   "execution_count": 58,
   "id": "2521e55b",
   "metadata": {},
   "outputs": [],
   "source": [
    "sa.fit(X,y)"
   ]
  },
  {
   "cell_type": "code",
   "execution_count": 59,
   "id": "cb59581f",
   "metadata": {},
   "outputs": [
    {
     "data": {
      "text/plain": [
       "0.9666666666666668"
      ]
     },
     "execution_count": 59,
     "metadata": {},
     "output_type": "execute_result"
    }
   ],
   "source": [
    "sa.best_score"
   ]
  },
  {
   "cell_type": "code",
   "execution_count": 48,
   "id": "51b15660",
   "metadata": {},
   "outputs": [],
   "source": [
    "#TODO: test on different data"
   ]
  },
  {
   "cell_type": "code",
   "execution_count": 49,
   "id": "5fb87c09",
   "metadata": {},
   "outputs": [],
   "source": [
    "#TODO: test on different param_grid"
   ]
  },
  {
   "cell_type": "code",
   "execution_count": 50,
   "id": "a860afbd",
   "metadata": {},
   "outputs": [],
   "source": [
    "#TODO: show execution time "
   ]
  },
  {
   "cell_type": "code",
   "execution_count": 52,
   "id": "917a0ede",
   "metadata": {},
   "outputs": [],
   "source": [
    "#TODO: compare to local search ?"
   ]
  },
  {
   "cell_type": "code",
   "execution_count": null,
   "id": "296530fa",
   "metadata": {},
   "outputs": [],
   "source": [
    "#TODO: earlier stopping ? (added)"
   ]
  }
 ],
 "metadata": {
  "kernelspec": {
   "display_name": "Python 3 (ipykernel)",
   "language": "python",
   "name": "python3"
  },
  "language_info": {
   "codemirror_mode": {
    "name": "ipython",
    "version": 3
   },
   "file_extension": ".py",
   "mimetype": "text/x-python",
   "name": "python",
   "nbconvert_exporter": "python",
   "pygments_lexer": "ipython3",
   "version": "3.10.3"
  }
 },
 "nbformat": 4,
 "nbformat_minor": 5
}
