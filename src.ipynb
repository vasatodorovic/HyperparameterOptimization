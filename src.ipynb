{
 "cells": [
  {
   "cell_type": "code",
   "execution_count": 28,
   "id": "5481f841",
   "metadata": {},
   "outputs": [],
   "source": [
    "import random\n",
    "from sklearn.metrics import accuracy_score\n",
    "from sklearn.tree import DecisionTreeClassifier\n",
    "from sklearn.svm import SVC\n",
    "from sklearn.neighbors import KNeighborsClassifier\n",
    "from sklearn.model_selection import cross_val_score\n",
    "from sklearn.datasets import load_iris"
   ]
  },
  {
   "cell_type": "code",
   "execution_count": 89,
   "id": "2f3af8b0",
   "metadata": {},
   "outputs": [],
   "source": [
    "class GASearhCV:\n",
    "    \n",
    "    def __init__(self, model,param_grid,num_generations=50,scoring='accuracy',population_size=100, mutation_rate=0.05,elitism=False,elitism_size=0,tournament_size=5,cv=5):\n",
    "        self.model=model\n",
    "        self.X=None\n",
    "        self.y=None\n",
    "        self.population_size = population_size\n",
    "        self.param_grid = param_grid\n",
    "        self.scoring = scoring\n",
    "        self.mutation_rate = mutation_rate\n",
    "        self.population = [self.generate_random_parameters() for _ in range(self.population_size)]\n",
    "        self.elitism = elitism\n",
    "        self.tournament_size = tournament_size\n",
    "        self.cv=cv\n",
    "        self.elitism_size=elitism_size\n",
    "        self.best_params=None\n",
    "        self.best_score=None\n",
    "        self.num_generations=num_generations\n",
    "        \n",
    "    def generate_random_parameters(self):\n",
    "        return {param : random.choice(value_list) for param,value_list in self.param_grid.items()}\n",
    "    \n",
    "    def fit(self,X,y):\n",
    "        self.X=X\n",
    "        self.y=y\n",
    "        \n",
    "        new_population=[self.generate_random_parameters() for _ in range(self.population_size)]\n",
    "        fitness_score = dict()\n",
    "        \n",
    "        if self.elitism and (self.population_size - self.elitism_size) % 2 == 1:\n",
    "            self.elitism_size += 1\n",
    "            \n",
    "        for p in self.population:\n",
    "            fitness_score[str(p)]=self.fitness(p)\n",
    "            \n",
    "        for _ in range(self.num_generations):\n",
    "            if self.elitism:\n",
    "                self.population.sort(key=lambda x: fitness_score[str(x)], reverse=True)\n",
    "                new_population[:self.elitism_size] = self.population[:self.elitism_size]\n",
    "                \n",
    "            for i in range(self.elitism_size, self.population_size, 2):\n",
    "                parent1_idx = self.selection(self.population, self.tournament_size,fitness_score)\n",
    "                parent2_idx = self.selection(self.population, self.tournament_size,fitness_score)\n",
    "            \n",
    "                self.crossover(self.population[parent1_idx],\n",
    "                          self.population[parent2_idx],\n",
    "                          new_population[i],\n",
    "                          new_population[i+1])\n",
    "            \n",
    "                self.mutation(new_population[i])\n",
    "                self.mutation(new_population[i+1])\n",
    "            \n",
    "                fitness_score[str(new_population[i])] = self.fitness(new_population[i])\n",
    "                fitness_score[str(new_population[i+1])] = self.fitness(new_population[i+1])\n",
    "        \n",
    "            self.population[:] = new_population[:]\n",
    "            \n",
    "        self.best_params = max(self.population, key=lambda x: fitness_score[str(x)])\n",
    "        self.best_score = fitness_score[str(self.best_params)]\n",
    "                \n",
    "    def selection(self,population, tournament_size,fitness_score):\n",
    "        chosen = random.sample(population, tournament_size)\n",
    "        max_fitness = float('-inf')\n",
    "        best_idx = -1\n",
    "        for i,p in enumerate(chosen):\n",
    "            if fitness_score[str(p)] > max_fitness:\n",
    "                max_fitness = fitness_score[str(p)]\n",
    "                best_idx = i\n",
    "        return best_idx\n",
    "    \n",
    "    def mutation(self,parameters): \n",
    "        for param,values in self.param_grid.items():\n",
    "            if random.random() < self.mutation_rate:\n",
    "                parameters[param]=random.choice(values)\n",
    "    \n",
    "    def crossover(self,parent1, parent2, child1, child2):\n",
    "        for param,value in parent1.items():\n",
    "            if random.random() < 0.5:\n",
    "                child1[param]=value\n",
    "                child2[param]=parent2[param]\n",
    "            else:\n",
    "                child2[param]=value\n",
    "                child1[param]=parent1[param]\n",
    "    \n",
    "    def fitness(self,params):\n",
    "        self.model.set_params(**params)\n",
    "        scores = cross_val_score(self.model, self.X, self.y, cv=self.cv, scoring=self.scoring)\n",
    "        return scores.mean()"
   ]
  },
  {
   "cell_type": "code",
   "execution_count": 90,
   "id": "500fbda2",
   "metadata": {},
   "outputs": [],
   "source": [
    "param_grid={\n",
    "    'max_depth' : [4,5,6],\n",
    "    'criterion' : ['gini','entropy']\n",
    "}"
   ]
  },
  {
   "cell_type": "code",
   "execution_count": 91,
   "id": "85ef4b80",
   "metadata": {},
   "outputs": [],
   "source": [
    "iris = load_iris()\n",
    "X = iris.data\n",
    "y = iris.target"
   ]
  },
  {
   "cell_type": "code",
   "execution_count": 92,
   "id": "b2288568",
   "metadata": {},
   "outputs": [],
   "source": [
    "model=DecisionTreeClassifier()"
   ]
  },
  {
   "cell_type": "code",
   "execution_count": 93,
   "id": "dbca11f4",
   "metadata": {},
   "outputs": [],
   "source": [
    "ga=GASearhCV(model,param_grid=param_grid,num_generations=20,population_size=30,elitism=True,elitism_size=5)"
   ]
  },
  {
   "cell_type": "code",
   "execution_count": 94,
   "id": "16c1628d",
   "metadata": {
    "scrolled": true
   },
   "outputs": [],
   "source": [
    "ga.fit(X,y)"
   ]
  },
  {
   "cell_type": "code",
   "execution_count": 95,
   "id": "d177e5c3",
   "metadata": {},
   "outputs": [
    {
     "data": {
      "text/plain": [
       "{'max_depth': 6, 'criterion': 'gini'}"
      ]
     },
     "execution_count": 95,
     "metadata": {},
     "output_type": "execute_result"
    }
   ],
   "source": [
    "ga.best_params"
   ]
  },
  {
   "cell_type": "code",
   "execution_count": null,
   "id": "251c6595",
   "metadata": {},
   "outputs": [],
   "source": []
  }
 ],
 "metadata": {
  "kernelspec": {
   "display_name": "Python 3 (ipykernel)",
   "language": "python",
   "name": "python3"
  },
  "language_info": {
   "codemirror_mode": {
    "name": "ipython",
    "version": 3
   },
   "file_extension": ".py",
   "mimetype": "text/x-python",
   "name": "python",
   "nbconvert_exporter": "python",
   "pygments_lexer": "ipython3",
   "version": "3.10.3"
  }
 },
 "nbformat": 4,
 "nbformat_minor": 5
}
