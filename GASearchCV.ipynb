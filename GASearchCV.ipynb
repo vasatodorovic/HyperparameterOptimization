{
 "cells": [
  {
   "cell_type": "code",
   "execution_count": 46,
   "id": "08b6c526",
   "metadata": {},
   "outputs": [],
   "source": [
    "import random\n",
    "from sklearn.metrics import accuracy_score\n",
    "from sklearn.tree import DecisionTreeClassifier\n",
    "from sklearn.svm import SVC\n",
    "from sklearn.neighbors import KNeighborsClassifier\n",
    "from sklearn.model_selection import cross_val_score, train_test_split,GridSearchCV\n",
    "from sklearn.datasets import load_iris\n",
    "import pandas as pd\n",
    "import cProfile\n",
    "import time\n"
   ]
  },
  {
   "cell_type": "code",
   "execution_count": 47,
   "id": "210f2c07",
   "metadata": {},
   "outputs": [],
   "source": [
    "class GASearhCV:\n",
    "    \n",
    "    def __init__(self, model,param_grid,num_generations=50,scoring='accuracy',population_size=100, mutation_rate=0.05,elitism=False,elitism_size=0,tournament_size=5,cv=5):\n",
    "        self.model=model\n",
    "        self.X=None\n",
    "        self.y=None\n",
    "        self.population_size = population_size\n",
    "        self.param_grid = param_grid\n",
    "        self.scoring = scoring\n",
    "        self.mutation_rate = mutation_rate\n",
    "        self.population = [self.generate_random_parameters() for _ in range(self.population_size)]\n",
    "        self.elitism = elitism\n",
    "        self.tournament_size = tournament_size\n",
    "        self.cv=cv\n",
    "        self.elitism_size=elitism_size\n",
    "        self.best_params=None\n",
    "        self.best_score=None\n",
    "        self.num_generations=num_generations\n",
    "        \n",
    "    def generate_random_parameters(self):\n",
    "        return {param : random.choice(value_list) for param,value_list in self.param_grid.items()}\n",
    "    \n",
    "    def fit(self,X,y):\n",
    "        self.X=X\n",
    "        self.y=y\n",
    "        \n",
    "        new_population=[self.generate_random_parameters() for _ in range(self.population_size)]\n",
    "        fitness_score = dict()\n",
    "        \n",
    "        if self.elitism and (self.population_size - self.elitism_size) % 2 == 1:\n",
    "            self.elitism_size += 1\n",
    "            \n",
    "        for p in self.population:\n",
    "            fitness_score[str(p)]=self.fitness(p)\n",
    "            \n",
    "        for _ in range(self.num_generations):\n",
    "            if self.elitism:\n",
    "                self.population.sort(key=lambda x: fitness_score[str(x)], reverse=True)\n",
    "                new_population[:self.elitism_size] = self.population[:self.elitism_size]\n",
    "                \n",
    "            for i in range(self.elitism_size, self.population_size, 2):\n",
    "                parent1_idx = self.selection(self.population, self.tournament_size,fitness_score)\n",
    "                parent2_idx = self.selection(self.population, self.tournament_size,fitness_score)\n",
    "            \n",
    "                self.crossover(self.population[parent1_idx],\n",
    "                          self.population[parent2_idx],\n",
    "                          new_population[i],\n",
    "                          new_population[i+1])\n",
    "            \n",
    "                self.mutation(new_population[i])\n",
    "                self.mutation(new_population[i+1])\n",
    "            \n",
    "                fitness_score[str(new_population[i])] = self.fitness(new_population[i])\n",
    "                fitness_score[str(new_population[i+1])] = self.fitness(new_population[i+1])\n",
    "        \n",
    "            self.population[:] = new_population[:]\n",
    "            \n",
    "        self.best_params = max(self.population, key=lambda x: fitness_score[str(x)])\n",
    "        self.best_score = fitness_score[str(self.best_params)]\n",
    "                \n",
    "    def selection(self,population, tournament_size,fitness_score):\n",
    "        chosen = random.sample(population, tournament_size)\n",
    "        max_fitness = float('-inf')\n",
    "        best_idx = -1\n",
    "        for i,p in enumerate(chosen):\n",
    "            if fitness_score[str(p)] > max_fitness:\n",
    "                max_fitness = fitness_score[str(p)]\n",
    "                best_idx = i\n",
    "        return best_idx\n",
    "    \n",
    "    def mutation(self,parameters): \n",
    "        for param,values in self.param_grid.items():\n",
    "            if random.random() < self.mutation_rate:\n",
    "                parameters[param]=random.choice(values)\n",
    "    \n",
    "    def crossover(self,parent1, parent2, child1, child2):\n",
    "        for param,value in parent1.items():\n",
    "            if random.random() < 0.5:\n",
    "                child1[param]=value\n",
    "                child2[param]=parent2[param]\n",
    "            else:\n",
    "                child2[param]=value\n",
    "                child1[param]=parent1[param]\n",
    "    \n",
    "    def fitness(self,params):\n",
    "        self.model.set_params(**params)\n",
    "        scores = cross_val_score(self.model, self.X, self.y, cv=self.cv, scoring=self.scoring)\n",
    "        return scores.mean()"
   ]
  },
  {
   "cell_type": "code",
   "execution_count": 48,
   "id": "1c03e6af",
   "metadata": {},
   "outputs": [],
   "source": [
    "param_grid_1={\n",
    "    'max_depth' : [4,5,6],\n",
    "    'criterion' : ['gini','entropy'],\n",
    "    'min_samples_leaf':[2,3,4],\n",
    "    'min_samples_split':[3,4,5]\n",
    "}\n",
    "#3*2*3*3 = 54\n",
    "param_grid_2={\n",
    "    'max_depth' : [4,5,6],\n",
    "    'criterion' : ['gini','entropy'],\n",
    "    'min_samples_leaf':[2,3,4,5,6],\n",
    "    'min_samples_split':[3,4,5,6]\n",
    "}\n",
    "# 3*2*5*4 = 120\n",
    "param_grid_3={\n",
    "    'max_depth' : [4,5,6,7,8],\n",
    "    'criterion' : ['gini','entropy'],\n",
    "    'min_samples_leaf':[2,3,4,5,6],\n",
    "    'min_samples_split':[3,4,5,6]\n",
    "}\n",
    "# 5*2*5*4 = 200\n",
    "param_grid_4={\n",
    "    'max_depth' : [4,5,6,7,8,9,10],\n",
    "    'criterion' : ['gini','entropy'],\n",
    "    'min_samples_leaf':[2,3,4,5,6,7],\n",
    "    'min_samples_split':[3,4,5,6,7]\n",
    "}\n",
    "# 7*2*6*5 = 420"
   ]
  },
  {
   "cell_type": "code",
   "execution_count": 44,
   "id": "24cd5b28",
   "metadata": {},
   "outputs": [
    {
     "data": {
      "text/plain": [
       "420"
      ]
     },
     "execution_count": 44,
     "metadata": {},
     "output_type": "execute_result"
    }
   ],
   "source": [
    "7*2*6*5"
   ]
  },
  {
   "cell_type": "code",
   "execution_count": 49,
   "id": "922da4c4",
   "metadata": {},
   "outputs": [],
   "source": [
    "data=pd.read_csv('airline.csv')\n",
    "from sklearn.preprocessing import LabelEncoder\n",
    "label_encoder = LabelEncoder()\n",
    "\n",
    "kolone_za_kodiranje = [\"First Name\", \"Gender\",\"Last Name\", \"Nationality\", \"Airport Name\", \"Airport Country Code\", \"Country Name\", \"Airport Continent\", \"Continents\", \"Arrival Airport\", \"Pilot Name\", \"Flight Status\"]\n",
    "\n",
    "for kolona in kolone_za_kodiranje:\n",
    "    data[kolona] = label_encoder.fit_transform(data[kolona])\n",
    "    \n",
    "data[\"Departure Date\"] = pd.to_datetime(data[\"Departure Date\"])\n",
    "\n",
    "data[\"Day\"] = data[\"Departure Date\"].dt.day\n",
    "data[\"Month\"] = data[\"Departure Date\"].dt.month\n",
    "data[\"Year\"] = data[\"Departure Date\"].dt.year\n",
    "\n",
    "data = data[[\"Passenger ID\", \"First Name\", \"Last Name\", \"Gender\", \"Age\", \"Nationality\",\n",
    "             \"Airport Name\", \"Airport Country Code\", \"Country Name\", \"Airport Continent\",\n",
    "             \"Continents\", \"Day\", \"Month\", \"Year\", \"Arrival Airport\",\n",
    "             \"Pilot Name\", \"Flight Status\"]]"
   ]
  },
  {
   "cell_type": "code",
   "execution_count": 51,
   "id": "daff3a1b",
   "metadata": {},
   "outputs": [
    {
     "data": {
      "text/html": [
       "<div>\n",
       "<style scoped>\n",
       "    .dataframe tbody tr th:only-of-type {\n",
       "        vertical-align: middle;\n",
       "    }\n",
       "\n",
       "    .dataframe tbody tr th {\n",
       "        vertical-align: top;\n",
       "    }\n",
       "\n",
       "    .dataframe thead th {\n",
       "        text-align: right;\n",
       "    }\n",
       "</style>\n",
       "<table border=\"1\" class=\"dataframe\">\n",
       "  <thead>\n",
       "    <tr style=\"text-align: right;\">\n",
       "      <th></th>\n",
       "      <th>Passenger ID</th>\n",
       "      <th>First Name</th>\n",
       "      <th>Last Name</th>\n",
       "      <th>Gender</th>\n",
       "      <th>Age</th>\n",
       "      <th>Nationality</th>\n",
       "      <th>Airport Name</th>\n",
       "      <th>Airport Country Code</th>\n",
       "      <th>Country Name</th>\n",
       "      <th>Airport Continent</th>\n",
       "      <th>Continents</th>\n",
       "      <th>Day</th>\n",
       "      <th>Month</th>\n",
       "      <th>Year</th>\n",
       "      <th>Arrival Airport</th>\n",
       "      <th>Pilot Name</th>\n",
       "      <th>Flight Status</th>\n",
       "    </tr>\n",
       "  </thead>\n",
       "  <tbody>\n",
       "    <tr>\n",
       "      <th>0</th>\n",
       "      <td>10856</td>\n",
       "      <td>2487</td>\n",
       "      <td>22626</td>\n",
       "      <td>0</td>\n",
       "      <td>62</td>\n",
       "      <td>105</td>\n",
       "      <td>1717</td>\n",
       "      <td>219</td>\n",
       "      <td>221</td>\n",
       "      <td>3</td>\n",
       "      <td>3</td>\n",
       "      <td>28</td>\n",
       "      <td>6</td>\n",
       "      <td>2022</td>\n",
       "      <td>1657</td>\n",
       "      <td>29123</td>\n",
       "      <td>2</td>\n",
       "    </tr>\n",
       "    <tr>\n",
       "      <th>1</th>\n",
       "      <td>43872</td>\n",
       "      <td>2629</td>\n",
       "      <td>6478</td>\n",
       "      <td>1</td>\n",
       "      <td>62</td>\n",
       "      <td>152</td>\n",
       "      <td>4228</td>\n",
       "      <td>34</td>\n",
       "      <td>37</td>\n",
       "      <td>3</td>\n",
       "      <td>3</td>\n",
       "      <td>26</td>\n",
       "      <td>12</td>\n",
       "      <td>2022</td>\n",
       "      <td>8499</td>\n",
       "      <td>30724</td>\n",
       "      <td>2</td>\n",
       "    </tr>\n",
       "    <tr>\n",
       "      <th>2</th>\n",
       "      <td>42633</td>\n",
       "      <td>2023</td>\n",
       "      <td>12947</td>\n",
       "      <td>1</td>\n",
       "      <td>67</td>\n",
       "      <td>177</td>\n",
       "      <td>3034</td>\n",
       "      <td>70</td>\n",
       "      <td>72</td>\n",
       "      <td>2</td>\n",
       "      <td>2</td>\n",
       "      <td>18</td>\n",
       "      <td>1</td>\n",
       "      <td>2022</td>\n",
       "      <td>2679</td>\n",
       "      <td>23677</td>\n",
       "      <td>2</td>\n",
       "    </tr>\n",
       "    <tr>\n",
       "      <th>3</th>\n",
       "      <td>78493</td>\n",
       "      <td>2298</td>\n",
       "      <td>31198</td>\n",
       "      <td>0</td>\n",
       "      <td>71</td>\n",
       "      <td>43</td>\n",
       "      <td>6031</td>\n",
       "      <td>34</td>\n",
       "      <td>37</td>\n",
       "      <td>3</td>\n",
       "      <td>3</td>\n",
       "      <td>16</td>\n",
       "      <td>9</td>\n",
       "      <td>2022</td>\n",
       "      <td>8673</td>\n",
       "      <td>26947</td>\n",
       "      <td>1</td>\n",
       "    </tr>\n",
       "    <tr>\n",
       "      <th>4</th>\n",
       "      <td>82072</td>\n",
       "      <td>828</td>\n",
       "      <td>29617</td>\n",
       "      <td>1</td>\n",
       "      <td>21</td>\n",
       "      <td>43</td>\n",
       "      <td>2870</td>\n",
       "      <td>219</td>\n",
       "      <td>221</td>\n",
       "      <td>3</td>\n",
       "      <td>3</td>\n",
       "      <td>25</td>\n",
       "      <td>2</td>\n",
       "      <td>2022</td>\n",
       "      <td>6724</td>\n",
       "      <td>9532</td>\n",
       "      <td>2</td>\n",
       "    </tr>\n",
       "  </tbody>\n",
       "</table>\n",
       "</div>"
      ],
      "text/plain": [
       "   Passenger ID  First Name  Last Name  Gender  Age  Nationality  \\\n",
       "0         10856        2487      22626       0   62          105   \n",
       "1         43872        2629       6478       1   62          152   \n",
       "2         42633        2023      12947       1   67          177   \n",
       "3         78493        2298      31198       0   71           43   \n",
       "4         82072         828      29617       1   21           43   \n",
       "\n",
       "   Airport Name  Airport Country Code  Country Name  Airport Continent  \\\n",
       "0          1717                   219           221                  3   \n",
       "1          4228                    34            37                  3   \n",
       "2          3034                    70            72                  2   \n",
       "3          6031                    34            37                  3   \n",
       "4          2870                   219           221                  3   \n",
       "\n",
       "   Continents  Day  Month  Year  Arrival Airport  Pilot Name  Flight Status  \n",
       "0           3   28      6  2022             1657       29123              2  \n",
       "1           3   26     12  2022             8499       30724              2  \n",
       "2           2   18      1  2022             2679       23677              2  \n",
       "3           3   16      9  2022             8673       26947              1  \n",
       "4           3   25      2  2022             6724        9532              2  "
      ]
     },
     "execution_count": 51,
     "metadata": {},
     "output_type": "execute_result"
    }
   ],
   "source": [
    "data_100=data.head(100)\n",
    "data_1000=data.head(1000)\n",
    "data_10000=data.head(10000)\n",
    "data_100000=data\n",
    "data_10000.head()"
   ]
  },
  {
   "cell_type": "code",
   "execution_count": 52,
   "id": "ac3f656d",
   "metadata": {},
   "outputs": [],
   "source": [
    "model=DecisionTreeClassifier()"
   ]
  },
  {
   "cell_type": "markdown",
   "id": "7ecc3b2c",
   "metadata": {},
   "source": [
    "Podaci velicine 100"
   ]
  },
  {
   "cell_type": "code",
   "execution_count": 53,
   "id": "45f8007d",
   "metadata": {},
   "outputs": [],
   "source": [
    "X_100 = data_100.iloc[:,:-1]\n",
    "y_100 = data_100.iloc[:,-1]"
   ]
  },
  {
   "cell_type": "code",
   "execution_count": 54,
   "id": "1d7cba60",
   "metadata": {},
   "outputs": [
    {
     "name": "stdout",
     "output_type": "stream",
     "text": [
      "Izvršavanje koda za param_grid_1 trajalo je 0.4510917663574219 sekundi. Best score: 0.41000000000000003\n",
      "Izvršavanje koda za param_grid_2 trajalo je 1.1902570724487305 sekundi. Best score: 0.4\n",
      "Izvršavanje koda za param_grid_3 trajalo je 2.182286500930786 sekundi. Best score: 0.38\n",
      "Izvršavanje koda za param_grid_4 trajalo je 4.036481142044067 sekundi. Best score: 0.38999999999999996\n"
     ]
    }
   ],
   "source": [
    "param_grid = [param_grid_1,param_grid_2,param_grid_3,param_grid_4]\n",
    "\n",
    "for i,params in enumerate(param_grid):\n",
    "    if i==0:\n",
    "        ga=GASearhCV(model,param_grid=params,num_generations=5,population_size=5,elitism=True,elitism_size=3)\n",
    "    elif i==1:\n",
    "        ga=GASearhCV(model,param_grid=params,num_generations=5,population_size=10,elitism=True,elitism_size=3)\n",
    "    elif i==2:\n",
    "        ga=GASearhCV(model,param_grid=params,num_generations=5,population_size=15,elitism=True,elitism_size=3)\n",
    "    else:\n",
    "        ga=GASearhCV(model,param_grid=params,num_generations=10,population_size=15,elitism=True,elitism_size=3)\n",
    "\n",
    "    start_time = time.time()\n",
    "    ga.fit(X_100,y_100)\n",
    "    end_time = time.time()\n",
    "    execution_time = end_time - start_time\n",
    "    print(f\"Izvršavanje koda za param_grid_{i+1} trajalo je {execution_time} sekundi. Best score: {ga.best_score}\")"
   ]
  },
  {
   "cell_type": "code",
   "execution_count": 55,
   "id": "9498e090",
   "metadata": {},
   "outputs": [],
   "source": [
    "X_1000 = data_1000.iloc[:,:-1]\n",
    "y_1000 = data_1000.iloc[:,-1]"
   ]
  },
  {
   "cell_type": "code",
   "execution_count": 56,
   "id": "6814e159",
   "metadata": {
    "scrolled": true
   },
   "outputs": [
    {
     "name": "stdout",
     "output_type": "stream",
     "text": [
      "Izvršavanje koda za param_grid_1 trajalo je 0.7509894371032715 sekundi. Best score: 0.349\n",
      "Izvršavanje koda za param_grid_2 trajalo je 2.421154737472534 sekundi. Best score: 0.348\n",
      "Izvršavanje koda za param_grid_3 trajalo je 6.246211528778076 sekundi. Best score: 0.36\n",
      "Izvršavanje koda za param_grid_4 trajalo je 8.265958070755005 sekundi. Best score: 0.361\n"
     ]
    }
   ],
   "source": [
    "for i,params in enumerate(param_grid):\n",
    "    if i==0:\n",
    "        ga=GASearhCV(model,param_grid=params,num_generations=5,population_size=5,elitism=True,elitism_size=3)\n",
    "    elif i==1:\n",
    "        ga=GASearhCV(model,param_grid=params,num_generations=5,population_size=10,elitism=True,elitism_size=3)\n",
    "    elif i==2:\n",
    "        ga=GASearhCV(model,param_grid=params,num_generations=5,population_size=15,elitism=True,elitism_size=3)\n",
    "    else:\n",
    "        ga=GASearhCV(model,param_grid=params,num_generations=10,population_size=15,elitism=True,elitism_size=3)\n",
    "\n",
    "    start_time = time.time()\n",
    "    ga.fit(X_1000,y_1000)\n",
    "    end_time = time.time()\n",
    "    execution_time = end_time - start_time\n",
    "    print(f\"Izvršavanje koda za param_grid_{i+1} trajalo je {execution_time} sekundi. Best score: {ga.best_score}\")"
   ]
  },
  {
   "cell_type": "code",
   "execution_count": 10,
   "id": "bfc94971",
   "metadata": {},
   "outputs": [],
   "source": [
    "X_10000 = data_10000.iloc[:,:-1]\n",
    "y_10000 = data_10000.iloc[:,-1]"
   ]
  },
  {
   "cell_type": "code",
   "execution_count": 57,
   "id": "73220569",
   "metadata": {},
   "outputs": [
    {
     "name": "stdout",
     "output_type": "stream",
     "text": [
      "Izvršavanje koda za param_grid_1 trajalo je 6.124116659164429 sekundi. Best score: 0.3387\n",
      "Izvršavanje koda za param_grid_2 trajalo je 11.703721046447754 sekundi. Best score: 0.3388999999999999\n",
      "Izvršavanje koda za param_grid_3 trajalo je 25.394129276275635 sekundi. Best score: 0.3391\n",
      "Izvršavanje koda za param_grid_4 trajalo je 67.62477731704712 sekundi. Best score: 0.3424\n"
     ]
    }
   ],
   "source": [
    "for i,params in enumerate(param_grid):\n",
    "    if i==0:\n",
    "        ga=GASearhCV(model,param_grid=params,num_generations=5,population_size=5,elitism=True,elitism_size=3)\n",
    "    elif i==1:\n",
    "        ga=GASearhCV(model,param_grid=params,num_generations=5,population_size=10,elitism=True,elitism_size=3)\n",
    "    elif i==2:\n",
    "        ga=GASearhCV(model,param_grid=params,num_generations=5,population_size=15,elitism=True,elitism_size=3)\n",
    "    else:\n",
    "        ga=GASearhCV(model,param_grid=params,num_generations=10,population_size=15,elitism=True,elitism_size=3)\n",
    "\n",
    "    start_time = time.time()\n",
    "    ga.fit(X_10000,y_10000)\n",
    "    end_time = time.time()\n",
    "    execution_time = end_time - start_time\n",
    "    print(f\"Izvršavanje koda za param_grid_{i+1} trajalo je {execution_time} sekundi. Best score: {ga.best_score}\")"
   ]
  },
  {
   "cell_type": "code",
   "execution_count": 58,
   "id": "189ef656",
   "metadata": {},
   "outputs": [],
   "source": [
    "X_100000 = data_100000.iloc[:,:-1]\n",
    "y_100000 = data_100000.iloc[:,-1]"
   ]
  },
  {
   "cell_type": "code",
   "execution_count": 59,
   "id": "79928bbe",
   "metadata": {},
   "outputs": [
    {
     "name": "stdout",
     "output_type": "stream",
     "text": [
      "Izvršavanje koda za param_grid_1 trajalo je 43.06265187263489 sekundi. Best score: 0.334398073734938\n",
      "Izvršavanje koda za param_grid_2 trajalo je 118.81007933616638 sekundi. Best score: 0.33550335552389443\n",
      "Izvršavanje koda za param_grid_3 trajalo je 297.2374222278595 sekundi. Best score: 0.3356351376110952\n",
      "Izvršavanje koda za param_grid_4 trajalo je 730.5441136360168 sekundi. Best score: 0.33686211142556\n"
     ]
    }
   ],
   "source": [
    "for i,params in enumerate(param_grid):\n",
    "    if i==0:\n",
    "        ga=GASearhCV(model,param_grid=params,num_generations=5,population_size=5,elitism=True,elitism_size=3)\n",
    "    elif i==1:\n",
    "        ga=GASearhCV(model,param_grid=params,num_generations=5,population_size=10,elitism=True,elitism_size=3)\n",
    "    elif i==2:\n",
    "        ga=GASearhCV(model,param_grid=params,num_generations=5,population_size=15,elitism=True,elitism_size=3)\n",
    "    else:\n",
    "        ga=GASearhCV(model,param_grid=params,num_generations=10,population_size=15,elitism=True,elitism_size=3)\n",
    "\n",
    "    start_time = time.time()\n",
    "    ga.fit(X_100000,y_100000)\n",
    "    end_time = time.time()\n",
    "    execution_time = end_time - start_time\n",
    "    print(f\"Izvršavanje koda za param_grid_{i+1} trajalo je {execution_time} sekundi. Best score: {ga.best_score}\")"
   ]
  },
  {
   "cell_type": "code",
   "execution_count": 39,
   "id": "8820b716",
   "metadata": {},
   "outputs": [],
   "source": [
    "grid=GridSearchCV(model,param_grid=param_grid_3,n_jobs=1,cv=5,scoring='accuracy')"
   ]
  },
  {
   "cell_type": "code",
   "execution_count": 42,
   "id": "2d996d7c",
   "metadata": {},
   "outputs": [
    {
     "name": "stdout",
     "output_type": "stream",
     "text": [
      "Izvršavanje koda trajalo je 4.381105184555054 sekundi. Best score: 0.42000000000000004\n"
     ]
    }
   ],
   "source": [
    "start_time = time.time()\n",
    "grid.fit(X_100,y_100)\n",
    "end_time = time.time()\n",
    "execution_time = end_time - start_time\n",
    "print(f\"Izvršavanje koda trajalo je {execution_time} sekundi. Best score: {grid.best_score_}\")"
   ]
  },
  {
   "cell_type": "code",
   "execution_count": 112,
   "id": "6e8015fc",
   "metadata": {},
   "outputs": [
    {
     "name": "stdout",
     "output_type": "stream",
     "text": [
      "Izvršavanje koda trajalo je 9.455922365188599 sekundi. Best score: 0.3421\n"
     ]
    }
   ],
   "source": [
    "start_time = time.time()\n",
    "grid.fit(X_1000,y_1000)\n",
    "end_time = time.time()\n",
    "execution_time = end_time - start_time\n",
    "print(f\"Izvršavanje koda trajalo je {execution_time} sekundi. Best score: {ga.best_score}\")"
   ]
  },
  {
   "cell_type": "code",
   "execution_count": 113,
   "id": "6124aa74",
   "metadata": {},
   "outputs": [
    {
     "name": "stdout",
     "output_type": "stream",
     "text": [
      "Izvršavanje koda trajalo je 63.15167307853699 sekundi. Best score: 0.3421\n"
     ]
    }
   ],
   "source": [
    "start_time = time.time()\n",
    "grid.fit(X_10000,y_10000)\n",
    "end_time = time.time()\n",
    "execution_time = end_time - start_time\n",
    "print(f\"Izvršavanje koda trajalo je {execution_time} sekundi. Best score: {ga.best_score}\")"
   ]
  },
  {
   "cell_type": "code",
   "execution_count": null,
   "id": "905d9c6b",
   "metadata": {},
   "outputs": [],
   "source": []
  }
 ],
 "metadata": {
  "kernelspec": {
   "display_name": "Python 3 (ipykernel)",
   "language": "python",
   "name": "python3"
  },
  "language_info": {
   "codemirror_mode": {
    "name": "ipython",
    "version": 3
   },
   "file_extension": ".py",
   "mimetype": "text/x-python",
   "name": "python",
   "nbconvert_exporter": "python",
   "pygments_lexer": "ipython3",
   "version": "3.10.3"
  }
 },
 "nbformat": 4,
 "nbformat_minor": 5
}
